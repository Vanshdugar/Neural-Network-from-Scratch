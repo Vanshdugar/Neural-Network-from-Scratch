{
  "cells": [
    {
      "cell_type": "code",
      "execution_count": 1,
      "metadata": {
        "id": "K_s48tbXkHA3"
      },
      "outputs": [],
      "source": [
        "import pandas as pd\n",
        "import numpy as np\n",
        "from matplotlib import pyplot as plt"
      ]
    },
    {
      "cell_type": "code",
      "execution_count": 2,
      "metadata": {
        "colab": {
          "base_uri": "https://localhost:8080/",
          "height": 255
        },
        "id": "1wYyX5hbmQPV",
        "outputId": "c8ea79b9-318e-4e69-aa79-4060028cf620"
      },
      "outputs": [
        {
          "data": {
            "text/html": [
              "<div>\n",
              "<style scoped>\n",
              "    .dataframe tbody tr th:only-of-type {\n",
              "        vertical-align: middle;\n",
              "    }\n",
              "\n",
              "    .dataframe tbody tr th {\n",
              "        vertical-align: top;\n",
              "    }\n",
              "\n",
              "    .dataframe thead th {\n",
              "        text-align: right;\n",
              "    }\n",
              "</style>\n",
              "<table border=\"1\" class=\"dataframe\">\n",
              "  <thead>\n",
              "    <tr style=\"text-align: right;\">\n",
              "      <th></th>\n",
              "      <th>label</th>\n",
              "      <th>pixel0</th>\n",
              "      <th>pixel1</th>\n",
              "      <th>pixel2</th>\n",
              "      <th>pixel3</th>\n",
              "      <th>pixel4</th>\n",
              "      <th>pixel5</th>\n",
              "      <th>pixel6</th>\n",
              "      <th>pixel7</th>\n",
              "      <th>pixel8</th>\n",
              "      <th>...</th>\n",
              "      <th>pixel774</th>\n",
              "      <th>pixel775</th>\n",
              "      <th>pixel776</th>\n",
              "      <th>pixel777</th>\n",
              "      <th>pixel778</th>\n",
              "      <th>pixel779</th>\n",
              "      <th>pixel780</th>\n",
              "      <th>pixel781</th>\n",
              "      <th>pixel782</th>\n",
              "      <th>pixel783</th>\n",
              "    </tr>\n",
              "  </thead>\n",
              "  <tbody>\n",
              "    <tr>\n",
              "      <th>0</th>\n",
              "      <td>1</td>\n",
              "      <td>0</td>\n",
              "      <td>0</td>\n",
              "      <td>0</td>\n",
              "      <td>0</td>\n",
              "      <td>0</td>\n",
              "      <td>0</td>\n",
              "      <td>0</td>\n",
              "      <td>0</td>\n",
              "      <td>0</td>\n",
              "      <td>...</td>\n",
              "      <td>0</td>\n",
              "      <td>0</td>\n",
              "      <td>0</td>\n",
              "      <td>0</td>\n",
              "      <td>0</td>\n",
              "      <td>0</td>\n",
              "      <td>0</td>\n",
              "      <td>0</td>\n",
              "      <td>0</td>\n",
              "      <td>0</td>\n",
              "    </tr>\n",
              "    <tr>\n",
              "      <th>1</th>\n",
              "      <td>0</td>\n",
              "      <td>0</td>\n",
              "      <td>0</td>\n",
              "      <td>0</td>\n",
              "      <td>0</td>\n",
              "      <td>0</td>\n",
              "      <td>0</td>\n",
              "      <td>0</td>\n",
              "      <td>0</td>\n",
              "      <td>0</td>\n",
              "      <td>...</td>\n",
              "      <td>0</td>\n",
              "      <td>0</td>\n",
              "      <td>0</td>\n",
              "      <td>0</td>\n",
              "      <td>0</td>\n",
              "      <td>0</td>\n",
              "      <td>0</td>\n",
              "      <td>0</td>\n",
              "      <td>0</td>\n",
              "      <td>0</td>\n",
              "    </tr>\n",
              "    <tr>\n",
              "      <th>2</th>\n",
              "      <td>1</td>\n",
              "      <td>0</td>\n",
              "      <td>0</td>\n",
              "      <td>0</td>\n",
              "      <td>0</td>\n",
              "      <td>0</td>\n",
              "      <td>0</td>\n",
              "      <td>0</td>\n",
              "      <td>0</td>\n",
              "      <td>0</td>\n",
              "      <td>...</td>\n",
              "      <td>0</td>\n",
              "      <td>0</td>\n",
              "      <td>0</td>\n",
              "      <td>0</td>\n",
              "      <td>0</td>\n",
              "      <td>0</td>\n",
              "      <td>0</td>\n",
              "      <td>0</td>\n",
              "      <td>0</td>\n",
              "      <td>0</td>\n",
              "    </tr>\n",
              "    <tr>\n",
              "      <th>3</th>\n",
              "      <td>4</td>\n",
              "      <td>0</td>\n",
              "      <td>0</td>\n",
              "      <td>0</td>\n",
              "      <td>0</td>\n",
              "      <td>0</td>\n",
              "      <td>0</td>\n",
              "      <td>0</td>\n",
              "      <td>0</td>\n",
              "      <td>0</td>\n",
              "      <td>...</td>\n",
              "      <td>0</td>\n",
              "      <td>0</td>\n",
              "      <td>0</td>\n",
              "      <td>0</td>\n",
              "      <td>0</td>\n",
              "      <td>0</td>\n",
              "      <td>0</td>\n",
              "      <td>0</td>\n",
              "      <td>0</td>\n",
              "      <td>0</td>\n",
              "    </tr>\n",
              "    <tr>\n",
              "      <th>4</th>\n",
              "      <td>0</td>\n",
              "      <td>0</td>\n",
              "      <td>0</td>\n",
              "      <td>0</td>\n",
              "      <td>0</td>\n",
              "      <td>0</td>\n",
              "      <td>0</td>\n",
              "      <td>0</td>\n",
              "      <td>0</td>\n",
              "      <td>0</td>\n",
              "      <td>...</td>\n",
              "      <td>0</td>\n",
              "      <td>0</td>\n",
              "      <td>0</td>\n",
              "      <td>0</td>\n",
              "      <td>0</td>\n",
              "      <td>0</td>\n",
              "      <td>0</td>\n",
              "      <td>0</td>\n",
              "      <td>0</td>\n",
              "      <td>0</td>\n",
              "    </tr>\n",
              "  </tbody>\n",
              "</table>\n",
              "<p>5 rows × 785 columns</p>\n",
              "</div>"
            ],
            "text/plain": [
              "   label  pixel0  pixel1  pixel2  pixel3  pixel4  pixel5  pixel6  pixel7  \\\n",
              "0      1       0       0       0       0       0       0       0       0   \n",
              "1      0       0       0       0       0       0       0       0       0   \n",
              "2      1       0       0       0       0       0       0       0       0   \n",
              "3      4       0       0       0       0       0       0       0       0   \n",
              "4      0       0       0       0       0       0       0       0       0   \n",
              "\n",
              "   pixel8  ...  pixel774  pixel775  pixel776  pixel777  pixel778  pixel779  \\\n",
              "0       0  ...         0         0         0         0         0         0   \n",
              "1       0  ...         0         0         0         0         0         0   \n",
              "2       0  ...         0         0         0         0         0         0   \n",
              "3       0  ...         0         0         0         0         0         0   \n",
              "4       0  ...         0         0         0         0         0         0   \n",
              "\n",
              "   pixel780  pixel781  pixel782  pixel783  \n",
              "0         0         0         0         0  \n",
              "1         0         0         0         0  \n",
              "2         0         0         0         0  \n",
              "3         0         0         0         0  \n",
              "4         0         0         0         0  \n",
              "\n",
              "[5 rows x 785 columns]"
            ]
          },
          "execution_count": 2,
          "metadata": {},
          "output_type": "execute_result"
        }
      ],
      "source": [
        "data=pd.read_csv(\"train.csv\")\n",
        "data.head()"
      ]
    },
    {
      "cell_type": "code",
      "execution_count": 3,
      "metadata": {
        "id": "vsAdDH8plZO-"
      },
      "outputs": [],
      "source": [
        "data= np.array(data)\n",
        "m,n=data.shape\n",
        "np.random.shuffle(data)\n",
        "\n",
        "data_dev=data[0:1000].T\n",
        "Y_dev=data_dev[0]\n",
        "X_dev=data_dev[1:n]\n",
        "\n",
        "data_train=data[1000:m].T\n",
        "Y_train=data_train[0]\n",
        "X_train=data_train[1:n]\n",
        "X_train = X_train / 255.0\n",
        "X_dev = X_dev / 255.0\n"
      ]
    },
    {
      "cell_type": "code",
      "execution_count": 4,
      "metadata": {
        "id": "MSL_ExdOmLNU"
      },
      "outputs": [],
      "source": [
        "def init_params():\n",
        "    W1 = np.random.randn(10, 784) * np.sqrt(1. / 784)\n",
        "    b1 = np.zeros((10, 1))\n",
        "    W2 = np.random.randn(10, 10) * np.sqrt(1. / 10)\n",
        "    b2 = np.zeros((10, 1))\n",
        "    return W1, b1, W2, b2\n",
        "\n",
        "def ReLU(Z):\n",
        "    return np.maximum(Z, 0)\n",
        "\n",
        "def softmax(Z):\n",
        "    Z_max = np.max(Z, axis=0, keepdims=True)\n",
        "    exp_Z = np.exp(Z - Z_max)\n",
        "    A = exp_Z / np.sum(exp_Z, axis=0, keepdims=True)\n",
        "    return A\n",
        "\n",
        "def forward_prop(W1, b1, W2, b2, X):\n",
        "    Z1 = W1.dot(X) + b1\n",
        "    A1 = ReLU(Z1)\n",
        "    Z2 = W2.dot(A1) + b2\n",
        "    A2 = softmax(Z2)\n",
        "    return Z1, A1, Z2, A2\n",
        "\n",
        "def ReLU_deriv(Z):\n",
        "    return Z > 0\n",
        "\n",
        "def one_hot(Y):\n",
        "    one_hot_Y = np.zeros((Y.size, Y.max() + 1))\n",
        "    one_hot_Y[np.arange(Y.size), Y] = 1\n",
        "    one_hot_Y = one_hot_Y.T\n",
        "    return one_hot_Y\n",
        "\n",
        "def backward_prop(Z1, A1, Z2, A2, W1, W2, X, Y):\n",
        "    one_hot_Y = one_hot(Y)\n",
        "    dZ2 = A2 - one_hot_Y\n",
        "    dW2 = 1 / X.shape[1] * dZ2.dot(A1.T)\n",
        "    db2 = 1 / X.shape[1] * np.sum(dZ2, axis=1, keepdims=True)\n",
        "    dZ1 = W2.T.dot(dZ2) * ReLU_deriv(Z1)\n",
        "    dW1 = 1 / X.shape[1] * dZ1.dot(X.T)\n",
        "    db1 = 1 / X.shape[1] * np.sum(dZ1, axis=1, keepdims=True)\n",
        "    return dW1, db1, dW2, db2\n",
        "\n",
        "def update_params(W1, b1, W2, b2, dW1, db1, dW2, db2, alpha):\n",
        "    W1 = W1 - alpha * dW1\n",
        "    b1 = b1 - alpha * db1\n",
        "    W2 = W2 - alpha * dW2\n",
        "    b2 = b2 - alpha * db2\n",
        "    return W1, b1, W2, b2"
      ]
    },
    {
      "cell_type": "code",
      "execution_count": 5,
      "metadata": {
        "id": "lqWkD4eqmafF"
      },
      "outputs": [],
      "source": [
        "def get_predictions(A2):\n",
        "    return np.argmax(A2, 0)\n",
        "\n",
        "def get_accuracy(predictions, Y):\n",
        "    return float(np.sum(predictions == Y)*100 / Y.size)\n",
        "\n",
        "def gradient_descent(X, Y, alpha, iterations):\n",
        "    W1, b1, W2, b2 = init_params()\n",
        "    for i in range(iterations):\n",
        "        Z1, A1, Z2, A2 = forward_prop(W1, b1, W2, b2, X)\n",
        "        dW1, db1, dW2, db2 = backward_prop(Z1, A1, Z2, A2, W1, W2, X, Y)\n",
        "        W1, b1, W2, b2 = update_params(W1, b1, W2, b2, dW1, db1, dW2, db2, alpha)\n",
        "        if i % 10 == 0:\n",
        "            predictions = get_predictions(A2)\n",
        "            accuracy = get_accuracy(predictions, Y)\n",
        "            print(f\"Iteration: {i}, Accuracy: {accuracy}\")\n",
        "    return W1, b1, W2, b2\n"
      ]
    },
    {
      "cell_type": "code",
      "execution_count": 6,
      "metadata": {
        "colab": {
          "base_uri": "https://localhost:8080/",
          "height": 668
        },
        "id": "1-3au6o8tRNw",
        "outputId": "c7657c9d-8e4b-4e03-c93e-63ceb231bc48"
      },
      "outputs": [
        {
          "name": "stdout",
          "output_type": "stream",
          "text": [
            "Iteration: 0, Accuracy: 9.626829268292683\n",
            "Iteration: 10, Accuracy: 34.69512195121951\n",
            "Iteration: 20, Accuracy: 49.16829268292683\n",
            "Iteration: 30, Accuracy: 59.3780487804878\n",
            "Iteration: 40, Accuracy: 66.12439024390244\n",
            "Iteration: 50, Accuracy: 71.96829268292683\n",
            "Iteration: 60, Accuracy: 75.6951219512195\n",
            "Iteration: 70, Accuracy: 78.08536585365853\n",
            "Iteration: 80, Accuracy: 79.80243902439024\n",
            "Iteration: 90, Accuracy: 81.1219512195122\n",
            "Iteration: 100, Accuracy: 82.01463414634146\n",
            "Iteration: 110, Accuracy: 82.79268292682927\n",
            "Iteration: 120, Accuracy: 83.41951219512195\n",
            "Iteration: 130, Accuracy: 84.0780487804878\n",
            "Iteration: 140, Accuracy: 84.54146341463415\n",
            "Iteration: 150, Accuracy: 84.98048780487805\n",
            "Iteration: 160, Accuracy: 85.35853658536585\n",
            "Iteration: 170, Accuracy: 85.6609756097561\n",
            "Iteration: 180, Accuracy: 85.98048780487805\n",
            "Iteration: 190, Accuracy: 86.30243902439024\n",
            "Iteration: 200, Accuracy: 86.58292682926829\n",
            "Iteration: 210, Accuracy: 86.8390243902439\n",
            "Iteration: 220, Accuracy: 87.05609756097562\n",
            "Iteration: 230, Accuracy: 87.28048780487805\n",
            "Iteration: 240, Accuracy: 87.53170731707317\n",
            "Iteration: 250, Accuracy: 87.71707317073171\n",
            "Iteration: 260, Accuracy: 87.94390243902438\n",
            "Iteration: 270, Accuracy: 88.08780487804879\n",
            "Iteration: 280, Accuracy: 88.27073170731707\n",
            "Iteration: 290, Accuracy: 88.44390243902438\n",
            "Iteration: 300, Accuracy: 88.6\n",
            "Iteration: 310, Accuracy: 88.73414634146341\n",
            "Iteration: 320, Accuracy: 88.87560975609756\n",
            "Iteration: 330, Accuracy: 89.00975609756098\n",
            "Iteration: 340, Accuracy: 89.14146341463415\n",
            "Iteration: 350, Accuracy: 89.26829268292683\n",
            "Iteration: 360, Accuracy: 89.34878048780487\n",
            "Iteration: 370, Accuracy: 89.42682926829268\n",
            "Iteration: 380, Accuracy: 89.51219512195122\n",
            "Iteration: 390, Accuracy: 89.57317073170732\n",
            "Iteration: 400, Accuracy: 89.64878048780488\n",
            "Iteration: 410, Accuracy: 89.73658536585366\n",
            "Iteration: 420, Accuracy: 89.78536585365853\n",
            "Iteration: 430, Accuracy: 89.86341463414634\n",
            "Iteration: 440, Accuracy: 89.89512195121951\n",
            "Iteration: 450, Accuracy: 89.92682926829268\n",
            "Iteration: 460, Accuracy: 89.97560975609755\n",
            "Iteration: 470, Accuracy: 90.03414634146341\n",
            "Iteration: 480, Accuracy: 90.09024390243903\n",
            "Iteration: 490, Accuracy: 90.15853658536585\n",
            "Iteration: 500, Accuracy: 90.22926829268293\n",
            "Iteration: 510, Accuracy: 90.28536585365853\n",
            "Iteration: 520, Accuracy: 90.3390243902439\n",
            "Iteration: 530, Accuracy: 90.40243902439025\n",
            "Iteration: 540, Accuracy: 90.45121951219512\n",
            "Iteration: 550, Accuracy: 90.49756097560976\n",
            "Iteration: 560, Accuracy: 90.56585365853658\n",
            "Iteration: 570, Accuracy: 90.60975609756098\n",
            "Iteration: 580, Accuracy: 90.64390243902439\n",
            "Iteration: 590, Accuracy: 90.71463414634147\n",
            "Iteration: 600, Accuracy: 90.7390243902439\n",
            "Iteration: 610, Accuracy: 90.78536585365853\n",
            "Iteration: 620, Accuracy: 90.81951219512194\n",
            "Iteration: 630, Accuracy: 90.85121951219512\n",
            "Iteration: 640, Accuracy: 90.89756097560975\n",
            "Iteration: 650, Accuracy: 90.94634146341464\n",
            "Iteration: 660, Accuracy: 90.97804878048781\n",
            "Iteration: 670, Accuracy: 91.03414634146341\n",
            "Iteration: 680, Accuracy: 91.07073170731708\n",
            "Iteration: 690, Accuracy: 91.10487804878049\n",
            "Iteration: 700, Accuracy: 91.15365853658537\n",
            "Iteration: 710, Accuracy: 91.18048780487806\n",
            "Iteration: 720, Accuracy: 91.22439024390243\n",
            "Iteration: 730, Accuracy: 91.2560975609756\n",
            "Iteration: 740, Accuracy: 91.27317073170731\n",
            "Iteration: 750, Accuracy: 91.30975609756098\n",
            "Iteration: 760, Accuracy: 91.35853658536585\n",
            "Iteration: 770, Accuracy: 91.37560975609756\n",
            "Iteration: 780, Accuracy: 91.37560975609756\n",
            "Iteration: 790, Accuracy: 91.40243902439025\n",
            "Iteration: 800, Accuracy: 91.41707317073171\n",
            "Iteration: 810, Accuracy: 91.45365853658537\n",
            "Iteration: 820, Accuracy: 91.48048780487805\n",
            "Iteration: 830, Accuracy: 91.50243902439024\n",
            "Iteration: 840, Accuracy: 91.52439024390245\n",
            "Iteration: 850, Accuracy: 91.54878048780488\n",
            "Iteration: 860, Accuracy: 91.56341463414634\n",
            "Iteration: 870, Accuracy: 91.59756097560975\n",
            "Iteration: 880, Accuracy: 91.60975609756098\n",
            "Iteration: 890, Accuracy: 91.63658536585366\n",
            "Iteration: 900, Accuracy: 91.65365853658537\n",
            "Iteration: 910, Accuracy: 91.65121951219513\n",
            "Iteration: 920, Accuracy: 91.6780487804878\n",
            "Iteration: 930, Accuracy: 91.7\n",
            "Iteration: 940, Accuracy: 91.71463414634147\n",
            "Iteration: 950, Accuracy: 91.73170731707317\n",
            "Iteration: 960, Accuracy: 91.74634146341464\n",
            "Iteration: 970, Accuracy: 91.7560975609756\n",
            "Iteration: 980, Accuracy: 91.77560975609757\n",
            "Iteration: 990, Accuracy: 91.78536585365853\n"
          ]
        }
      ],
      "source": [
        "W1, b1, W2, b2 = gradient_descent(X_train, Y_train, 0.08, 1000)"
      ]
    },
    {
      "cell_type": "code",
      "execution_count": 7,
      "metadata": {
        "id": "vWH2tKmGuBhJ"
      },
      "outputs": [],
      "source": [
        "def make_predictions(X, W1, b1, W2, b2):\n",
        "    _, _, _, A2 = forward_prop(W1, b1, W2, b2, X)\n",
        "    predictions = get_predictions(A2)\n",
        "    return predictions\n",
        "\n",
        "def test_prediction(index, W1, b1, W2, b2):\n",
        "    current_image = X_train[:, index, None]\n",
        "    prediction = make_predictions(X_train[:, index, None], W1, b1, W2, b2)\n",
        "    label = Y_train[index]\n",
        "    print(\"Prediction: \", prediction)\n",
        "    print(\"Label: \", label)\n",
        "\n",
        "    current_image = current_image.reshape((28, 28)) * 255\n",
        "    plt.gray()\n",
        "    plt.imshow(current_image, interpolation='nearest')\n",
        "    plt.show()"
      ]
    },
    {
      "cell_type": "code",
      "execution_count": 8,
      "metadata": {
        "id": "AWYUjQZqvYe6"
      },
      "outputs": [
        {
          "name": "stdout",
          "output_type": "stream",
          "text": [
            "Prediction:  [7]\n",
            "Label:  7\n"
          ]
        },
        {
          "data": {
            "image/png": "[encoded data removed]",
            "text/plain": [
              "<Figure size 640x480 with 1 Axes>"
            ]
          },
          "metadata": {},
          "output_type": "display_data"
        },
        {
          "name": "stdout",
          "output_type": "stream",
          "text": [
            "Prediction:  [3]\n",
            "Label:  3\n"
          ]
        },
        {
          "data": {
            "image/png": "[encoded data removed]",
            "text/plain": [
              "<Figure size 640x480 with 1 Axes>"
            ]
          },
          "metadata": {},
          "output_type": "display_data"
        },
        {
          "name": "stdout",
          "output_type": "stream",
          "text": [
            "Prediction:  [5]\n",
            "Label:  5\n"
          ]
        },
        {
          "data": {
            "image/png": "[encoded data removed]",
            "text/plain": [
              "<Figure size 640x480 with 1 Axes>"
            ]
          },
          "metadata": {},
          "output_type": "display_data"
        },
        {
          "name": "stdout",
          "output_type": "stream",
          "text": [
            "Prediction:  [9]\n",
            "Label:  9\n"
          ]
        },
        {
          "data": {
            "image/png": "[encoded data removed]",
            "text/plain": [
              "<Figure size 640x480 with 1 Axes>"
            ]
          },
          "metadata": {},
          "output_type": "display_data"
        }
      ],
      "source": [
        "test_prediction(0, W1, b1, W2, b2)\n",
        "test_prediction(1, W1, b1, W2, b2)\n",
        "test_prediction(2, W1, b1, W2, b2)\n",
        "test_prediction(3, W1, b1, W2, b2)"
      ]
    },
    {
      "cell_type": "code",
      "execution_count": 9,
      "metadata": {
        "id": "78pEft5rvbX5"
      },
      "outputs": [
        {
          "data": {
            "text/plain": [
              "90.8"
            ]
          },
          "execution_count": 9,
          "metadata": {},
          "output_type": "execute_result"
        }
      ],
      "source": [
        "dev_predictions = make_predictions(X_dev, W1, b1, W2, b2)\n",
        "get_accuracy(dev_predictions, Y_dev)"
      ]
    },
    {
      "cell_type": "code",
      "execution_count": 10,
      "metadata": {},
      "outputs": [
        {
          "data": {
            "text/plain": [
              "90.8"
            ]
          },
          "execution_count": 10,
          "metadata": {},
          "output_type": "execute_result"
        }
      ],
      "source": [
        "test_d=pd.read_csv(\"test.csv\")\n",
        "test_d=np.array(test_d)\n",
        "X_test=test_d[1:n]\n",
        "X_test = X_test / 255.0\n",
        "test_acc= make_predictions(X_dev, W1, b1, W2, b2)\n",
        "get_accuracy(dev_predictions, Y_dev)"
      ]
    }
  ],
  "metadata": {
    "accelerator": "GPU",
    "colab": {
      "gpuType": "T4",
      "provenance": []
    },
    "kernelspec": {
      "display_name": "Python 3",
      "name": "python3"
    },
    "language_info": {
      "codemirror_mode": {
        "name": "ipython",
        "version": 3
      },
      "file_extension": ".py",
      "mimetype": "text/x-python",
      "name": "python",
      "nbconvert_exporter": "python",
      "pygments_lexer": "ipython3",
      "version": "3.12.4"
    }
  },
  "nbformat": 4,
  "nbformat_minor": 0
}
